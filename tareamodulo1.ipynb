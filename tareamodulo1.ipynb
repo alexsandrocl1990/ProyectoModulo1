{
  "nbformat": 4,
  "nbformat_minor": 0,
  "metadata": {
    "colab": {
      "provenance": [],
      "authorship_tag": "ABX9TyMg4wFIKaJIS4Jko4Q8zqXK",
      "include_colab_link": true
    },
    "kernelspec": {
      "name": "python3",
      "display_name": "Python 3"
    },
    "language_info": {
      "name": "python"
    }
  },
  "cells": [
    {
      "cell_type": "markdown",
      "metadata": {
        "id": "view-in-github",
        "colab_type": "text"
      },
      "source": [
        "<a href=\"https://colab.research.google.com/github/alexsandrocl1990/ProyectoModulo1/blob/main/tareamodulo1.ipynb\" target=\"_parent\"><img src=\"https://colab.research.google.com/assets/colab-badge.svg\" alt=\"Open In Colab\"/></a>"
      ]
    },
    {
      "cell_type": "markdown",
      "source": [
        "# Calculadora de índice de masa corporal (IMC)"
      ],
      "metadata": {
        "id": "qDjscaPj_RDq"
      }
    },
    {
      "cell_type": "code",
      "source": [
        "nombre = input('Nombre: ')\n",
        "apellido_p = input('Apellido Paterno: ')\n",
        "apellido_m = input('Apellido Materno: ')\n",
        "edad = input('Ingrese su edad: ')\n",
        "\n",
        "def calcular_IMC(peso, altura):\n",
        "    imc = peso / (altura**2)\n",
        "    return imc\n",
        "\n",
        "def determinar_IMC(imc):\n",
        "    if imc < 18.5:\n",
        "        return 'Bajo peso'\n",
        "    elif 18.5 <= imc < 25:\n",
        "        return 'Peso saludable'\n",
        "    elif 25 <= imc < 30:\n",
        "        return 'Sobrepeso'\n",
        "    elif 30 <= imc <300:\n",
        "        return 'Obesidad'\n",
        "\n",
        "peso = float(input('Ingrese su peso en kg: '))\n",
        "altura = float(input('Ingrese su altura en metros: '))\n",
        "\n",
        "imc = calcular_IMC(peso, altura)\n",
        "interpretacion = determinar_IMC(imc)\n",
        "\n",
        "print(\"Su IMC es:\", imc)\n",
        "print(\"Su categoría de IMC es:\", interpretacion)\n"
      ],
      "metadata": {
        "colab": {
          "base_uri": "https://localhost:8080/"
        },
        "id": "bF3BE1nG-1X5",
        "outputId": "d2c30076-9826-4d98-d151-cabb4a12a534"
      },
      "execution_count": 20,
      "outputs": [
        {
          "output_type": "stream",
          "name": "stdout",
          "text": [
            "Nombre: Alex Sandro\n",
            "Apellido Paterno: Carhuancho\n",
            "Apellido Materno: Lozano\n",
            "Ingrese su edad: 34\n",
            "Ingrese su peso en kg: 84\n",
            "Ingrese su altura en metros: 1.77\n",
            "Su IMC es: 26.812218711098343\n",
            "Su categoría de IMC es: Sobrepeso\n"
          ]
        }
      ]
    }
  ]
}